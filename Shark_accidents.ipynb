{
 "cells": [
  {
   "cell_type": "code",
   "execution_count": 6,
   "id": "98bcf10a",
   "metadata": {},
   "outputs": [],
   "source": [
    "#import packages\n",
    "\n",
    "import numpy as np\n",
    "import pandas as pd\n",
    "import seaborn as sns\n",
    "import matplotlib.pyplot as plt\n"
   ]
  },
  {
   "cell_type": "code",
   "execution_count": 7,
   "id": "93a1045d",
   "metadata": {},
   "outputs": [
    {
     "data": {
      "text/html": [
       "<div>\n",
       "<style scoped>\n",
       "    .dataframe tbody tr th:only-of-type {\n",
       "        vertical-align: middle;\n",
       "    }\n",
       "\n",
       "    .dataframe tbody tr th {\n",
       "        vertical-align: top;\n",
       "    }\n",
       "\n",
       "    .dataframe thead th {\n",
       "        text-align: right;\n",
       "    }\n",
       "</style>\n",
       "<table border=\"1\" class=\"dataframe\">\n",
       "  <thead>\n",
       "    <tr style=\"text-align: right;\">\n",
       "      <th></th>\n",
       "      <th>Case Number</th>\n",
       "      <th>Date</th>\n",
       "      <th>Year</th>\n",
       "      <th>Type</th>\n",
       "      <th>Country</th>\n",
       "      <th>Area</th>\n",
       "      <th>Location</th>\n",
       "      <th>Activity</th>\n",
       "      <th>Name</th>\n",
       "      <th>Sex</th>\n",
       "      <th>...</th>\n",
       "      <th>Species</th>\n",
       "      <th>Investigator or Source</th>\n",
       "      <th>pdf</th>\n",
       "      <th>href formula</th>\n",
       "      <th>href</th>\n",
       "      <th>Case Number.1</th>\n",
       "      <th>Case Number.2</th>\n",
       "      <th>original order</th>\n",
       "      <th>Unnamed: 22</th>\n",
       "      <th>Unnamed: 23</th>\n",
       "    </tr>\n",
       "  </thead>\n",
       "  <tbody>\n",
       "    <tr>\n",
       "      <th>0</th>\n",
       "      <td>2018.06.25</td>\n",
       "      <td>25-Jun-2018</td>\n",
       "      <td>2018.0</td>\n",
       "      <td>Boating</td>\n",
       "      <td>USA</td>\n",
       "      <td>California</td>\n",
       "      <td>Oceanside, San Diego County</td>\n",
       "      <td>Paddling</td>\n",
       "      <td>Julie Wolfe</td>\n",
       "      <td>F</td>\n",
       "      <td>...</td>\n",
       "      <td>White shark</td>\n",
       "      <td>R. Collier, GSAF</td>\n",
       "      <td>2018.06.25-Wolfe.pdf</td>\n",
       "      <td>http://sharkattackfile.net/spreadsheets/pdf_di...</td>\n",
       "      <td>http://sharkattackfile.net/spreadsheets/pdf_di...</td>\n",
       "      <td>2018.06.25</td>\n",
       "      <td>2018.06.25</td>\n",
       "      <td>6303.0</td>\n",
       "      <td>NaN</td>\n",
       "      <td>NaN</td>\n",
       "    </tr>\n",
       "    <tr>\n",
       "      <th>1</th>\n",
       "      <td>2018.06.18</td>\n",
       "      <td>18-Jun-2018</td>\n",
       "      <td>2018.0</td>\n",
       "      <td>Unprovoked</td>\n",
       "      <td>USA</td>\n",
       "      <td>Georgia</td>\n",
       "      <td>St. Simon Island, Glynn County</td>\n",
       "      <td>Standing</td>\n",
       "      <td>Adyson McNeely</td>\n",
       "      <td>F</td>\n",
       "      <td>...</td>\n",
       "      <td>NaN</td>\n",
       "      <td>K.McMurray, TrackingSharks.com</td>\n",
       "      <td>2018.06.18-McNeely.pdf</td>\n",
       "      <td>http://sharkattackfile.net/spreadsheets/pdf_di...</td>\n",
       "      <td>http://sharkattackfile.net/spreadsheets/pdf_di...</td>\n",
       "      <td>2018.06.18</td>\n",
       "      <td>2018.06.18</td>\n",
       "      <td>6302.0</td>\n",
       "      <td>NaN</td>\n",
       "      <td>NaN</td>\n",
       "    </tr>\n",
       "    <tr>\n",
       "      <th>2</th>\n",
       "      <td>2018.06.09</td>\n",
       "      <td>09-Jun-2018</td>\n",
       "      <td>2018.0</td>\n",
       "      <td>Invalid</td>\n",
       "      <td>USA</td>\n",
       "      <td>Hawaii</td>\n",
       "      <td>Habush, Oahu</td>\n",
       "      <td>Surfing</td>\n",
       "      <td>John Denges</td>\n",
       "      <td>M</td>\n",
       "      <td>...</td>\n",
       "      <td>NaN</td>\n",
       "      <td>K.McMurray, TrackingSharks.com</td>\n",
       "      <td>2018.06.09-Denges.pdf</td>\n",
       "      <td>http://sharkattackfile.net/spreadsheets/pdf_di...</td>\n",
       "      <td>http://sharkattackfile.net/spreadsheets/pdf_di...</td>\n",
       "      <td>2018.06.09</td>\n",
       "      <td>2018.06.09</td>\n",
       "      <td>6301.0</td>\n",
       "      <td>NaN</td>\n",
       "      <td>NaN</td>\n",
       "    </tr>\n",
       "    <tr>\n",
       "      <th>3</th>\n",
       "      <td>2018.06.08</td>\n",
       "      <td>08-Jun-2018</td>\n",
       "      <td>2018.0</td>\n",
       "      <td>Unprovoked</td>\n",
       "      <td>AUSTRALIA</td>\n",
       "      <td>New South Wales</td>\n",
       "      <td>Arrawarra Headland</td>\n",
       "      <td>Surfing</td>\n",
       "      <td>male</td>\n",
       "      <td>M</td>\n",
       "      <td>...</td>\n",
       "      <td>2 m shark</td>\n",
       "      <td>B. Myatt, GSAF</td>\n",
       "      <td>2018.06.08-Arrawarra.pdf</td>\n",
       "      <td>http://sharkattackfile.net/spreadsheets/pdf_di...</td>\n",
       "      <td>http://sharkattackfile.net/spreadsheets/pdf_di...</td>\n",
       "      <td>2018.06.08</td>\n",
       "      <td>2018.06.08</td>\n",
       "      <td>6300.0</td>\n",
       "      <td>NaN</td>\n",
       "      <td>NaN</td>\n",
       "    </tr>\n",
       "    <tr>\n",
       "      <th>4</th>\n",
       "      <td>2018.06.04</td>\n",
       "      <td>04-Jun-2018</td>\n",
       "      <td>2018.0</td>\n",
       "      <td>Provoked</td>\n",
       "      <td>MEXICO</td>\n",
       "      <td>Colima</td>\n",
       "      <td>La Ticla</td>\n",
       "      <td>Free diving</td>\n",
       "      <td>Gustavo Ramos</td>\n",
       "      <td>M</td>\n",
       "      <td>...</td>\n",
       "      <td>Tiger shark, 3m</td>\n",
       "      <td>A .Kipper</td>\n",
       "      <td>2018.06.04-Ramos.pdf</td>\n",
       "      <td>http://sharkattackfile.net/spreadsheets/pdf_di...</td>\n",
       "      <td>http://sharkattackfile.net/spreadsheets/pdf_di...</td>\n",
       "      <td>2018.06.04</td>\n",
       "      <td>2018.06.04</td>\n",
       "      <td>6299.0</td>\n",
       "      <td>NaN</td>\n",
       "      <td>NaN</td>\n",
       "    </tr>\n",
       "  </tbody>\n",
       "</table>\n",
       "<p>5 rows × 24 columns</p>\n",
       "</div>"
      ],
      "text/plain": [
       "  Case Number         Date    Year        Type    Country             Area  \\\n",
       "0  2018.06.25  25-Jun-2018  2018.0     Boating        USA       California   \n",
       "1  2018.06.18  18-Jun-2018  2018.0  Unprovoked        USA          Georgia   \n",
       "2  2018.06.09  09-Jun-2018  2018.0     Invalid        USA           Hawaii   \n",
       "3  2018.06.08  08-Jun-2018  2018.0  Unprovoked  AUSTRALIA  New South Wales   \n",
       "4  2018.06.04  04-Jun-2018  2018.0    Provoked     MEXICO           Colima   \n",
       "\n",
       "                         Location     Activity             Name Sex   ...  \\\n",
       "0     Oceanside, San Diego County     Paddling      Julie Wolfe    F  ...   \n",
       "1  St. Simon Island, Glynn County     Standing  Adyson McNeely     F  ...   \n",
       "2                    Habush, Oahu      Surfing      John Denges    M  ...   \n",
       "3              Arrawarra Headland      Surfing             male    M  ...   \n",
       "4                        La Ticla  Free diving   Gustavo Ramos     M  ...   \n",
       "\n",
       "          Species           Investigator or Source                       pdf  \\\n",
       "0      White shark                R. Collier, GSAF      2018.06.25-Wolfe.pdf   \n",
       "1              NaN  K.McMurray, TrackingSharks.com    2018.06.18-McNeely.pdf   \n",
       "2              NaN  K.McMurray, TrackingSharks.com     2018.06.09-Denges.pdf   \n",
       "3        2 m shark                  B. Myatt, GSAF  2018.06.08-Arrawarra.pdf   \n",
       "4  Tiger shark, 3m                       A .Kipper      2018.06.04-Ramos.pdf   \n",
       "\n",
       "                                        href formula  \\\n",
       "0  http://sharkattackfile.net/spreadsheets/pdf_di...   \n",
       "1  http://sharkattackfile.net/spreadsheets/pdf_di...   \n",
       "2  http://sharkattackfile.net/spreadsheets/pdf_di...   \n",
       "3  http://sharkattackfile.net/spreadsheets/pdf_di...   \n",
       "4  http://sharkattackfile.net/spreadsheets/pdf_di...   \n",
       "\n",
       "                                                href Case Number.1  \\\n",
       "0  http://sharkattackfile.net/spreadsheets/pdf_di...    2018.06.25   \n",
       "1  http://sharkattackfile.net/spreadsheets/pdf_di...    2018.06.18   \n",
       "2  http://sharkattackfile.net/spreadsheets/pdf_di...    2018.06.09   \n",
       "3  http://sharkattackfile.net/spreadsheets/pdf_di...    2018.06.08   \n",
       "4  http://sharkattackfile.net/spreadsheets/pdf_di...    2018.06.04   \n",
       "\n",
       "  Case Number.2 original order Unnamed: 22 Unnamed: 23  \n",
       "0    2018.06.25         6303.0         NaN         NaN  \n",
       "1    2018.06.18         6302.0         NaN         NaN  \n",
       "2    2018.06.09         6301.0         NaN         NaN  \n",
       "3    2018.06.08         6300.0         NaN         NaN  \n",
       "4    2018.06.04         6299.0         NaN         NaN  \n",
       "\n",
       "[5 rows x 24 columns]"
      ]
     },
     "execution_count": 7,
     "metadata": {},
     "output_type": "execute_result"
    }
   ],
   "source": [
    "#import database\n",
    "\n",
    "df= pd.read_csv(r\"C:\\Users\\shruthirajesh\\OneDrive - Georgian College\\attacks.csv\",encoding = \"ISO-8859-1\")\n",
    "df.head() "
   ]
  },
  {
   "cell_type": "code",
   "execution_count": 8,
   "id": "98154ac1",
   "metadata": {},
   "outputs": [
    {
     "data": {
      "text/plain": [
       "Index(['Case Number', 'Date', 'Year', 'Type', 'Country', 'Area', 'Location',\n",
       "       'Activity', 'Name', 'Sex ', 'Age', 'Injury', 'Fatal (Y/N)', 'Time',\n",
       "       'Species ', 'Investigator or Source', 'pdf', 'href formula', 'href',\n",
       "       'Case Number.1', 'Case Number.2', 'original order', 'Unnamed: 22',\n",
       "       'Unnamed: 23'],\n",
       "      dtype='object')"
      ]
     },
     "execution_count": 8,
     "metadata": {},
     "output_type": "execute_result"
    }
   ],
   "source": [
    "df.columns"
   ]
  },
  {
   "cell_type": "code",
   "execution_count": 1,
   "id": "e8183019",
   "metadata": {},
   "outputs": [],
   "source": [
    "#Unwanted columns are removed"
   ]
  },
  {
   "cell_type": "code",
   "execution_count": 9,
   "id": "000d8914",
   "metadata": {},
   "outputs": [],
   "source": [
    "df = df.drop(['Unnamed: 22', 'Unnamed: 23', 'Area', 'Case Number', 'Investigator or Source', 'Name', 'Location','Age', 'Injury', 'pdf', 'href formula', 'href','Time', 'Case Number.1', 'Case Number.2', 'original order','Date','Species '], axis = 1,errors='ignore')"
   ]
  },
  {
   "cell_type": "code",
   "execution_count": 10,
   "id": "7e1e13a7",
   "metadata": {},
   "outputs": [
    {
     "data": {
      "text/html": [
       "<div>\n",
       "<style scoped>\n",
       "    .dataframe tbody tr th:only-of-type {\n",
       "        vertical-align: middle;\n",
       "    }\n",
       "\n",
       "    .dataframe tbody tr th {\n",
       "        vertical-align: top;\n",
       "    }\n",
       "\n",
       "    .dataframe thead th {\n",
       "        text-align: right;\n",
       "    }\n",
       "</style>\n",
       "<table border=\"1\" class=\"dataframe\">\n",
       "  <thead>\n",
       "    <tr style=\"text-align: right;\">\n",
       "      <th></th>\n",
       "      <th>Year</th>\n",
       "      <th>Type</th>\n",
       "      <th>Country</th>\n",
       "      <th>Activity</th>\n",
       "      <th>Sex</th>\n",
       "      <th>Fatal (Y/N)</th>\n",
       "    </tr>\n",
       "  </thead>\n",
       "  <tbody>\n",
       "    <tr>\n",
       "      <th>0</th>\n",
       "      <td>2018.0</td>\n",
       "      <td>Boating</td>\n",
       "      <td>USA</td>\n",
       "      <td>Paddling</td>\n",
       "      <td>F</td>\n",
       "      <td>N</td>\n",
       "    </tr>\n",
       "    <tr>\n",
       "      <th>1</th>\n",
       "      <td>2018.0</td>\n",
       "      <td>Unprovoked</td>\n",
       "      <td>USA</td>\n",
       "      <td>Standing</td>\n",
       "      <td>F</td>\n",
       "      <td>N</td>\n",
       "    </tr>\n",
       "    <tr>\n",
       "      <th>2</th>\n",
       "      <td>2018.0</td>\n",
       "      <td>Invalid</td>\n",
       "      <td>USA</td>\n",
       "      <td>Surfing</td>\n",
       "      <td>M</td>\n",
       "      <td>N</td>\n",
       "    </tr>\n",
       "    <tr>\n",
       "      <th>3</th>\n",
       "      <td>2018.0</td>\n",
       "      <td>Unprovoked</td>\n",
       "      <td>AUSTRALIA</td>\n",
       "      <td>Surfing</td>\n",
       "      <td>M</td>\n",
       "      <td>N</td>\n",
       "    </tr>\n",
       "    <tr>\n",
       "      <th>4</th>\n",
       "      <td>2018.0</td>\n",
       "      <td>Provoked</td>\n",
       "      <td>MEXICO</td>\n",
       "      <td>Free diving</td>\n",
       "      <td>M</td>\n",
       "      <td>N</td>\n",
       "    </tr>\n",
       "    <tr>\n",
       "      <th>...</th>\n",
       "      <td>...</td>\n",
       "      <td>...</td>\n",
       "      <td>...</td>\n",
       "      <td>...</td>\n",
       "      <td>...</td>\n",
       "      <td>...</td>\n",
       "    </tr>\n",
       "    <tr>\n",
       "      <th>25718</th>\n",
       "      <td>NaN</td>\n",
       "      <td>NaN</td>\n",
       "      <td>NaN</td>\n",
       "      <td>NaN</td>\n",
       "      <td>NaN</td>\n",
       "      <td>NaN</td>\n",
       "    </tr>\n",
       "    <tr>\n",
       "      <th>25719</th>\n",
       "      <td>NaN</td>\n",
       "      <td>NaN</td>\n",
       "      <td>NaN</td>\n",
       "      <td>NaN</td>\n",
       "      <td>NaN</td>\n",
       "      <td>NaN</td>\n",
       "    </tr>\n",
       "    <tr>\n",
       "      <th>25720</th>\n",
       "      <td>NaN</td>\n",
       "      <td>NaN</td>\n",
       "      <td>NaN</td>\n",
       "      <td>NaN</td>\n",
       "      <td>NaN</td>\n",
       "      <td>NaN</td>\n",
       "    </tr>\n",
       "    <tr>\n",
       "      <th>25721</th>\n",
       "      <td>NaN</td>\n",
       "      <td>NaN</td>\n",
       "      <td>NaN</td>\n",
       "      <td>NaN</td>\n",
       "      <td>NaN</td>\n",
       "      <td>NaN</td>\n",
       "    </tr>\n",
       "    <tr>\n",
       "      <th>25722</th>\n",
       "      <td>NaN</td>\n",
       "      <td>NaN</td>\n",
       "      <td>NaN</td>\n",
       "      <td>NaN</td>\n",
       "      <td>NaN</td>\n",
       "      <td>NaN</td>\n",
       "    </tr>\n",
       "  </tbody>\n",
       "</table>\n",
       "<p>25723 rows × 6 columns</p>\n",
       "</div>"
      ],
      "text/plain": [
       "         Year        Type    Country     Activity Sex  Fatal (Y/N)\n",
       "0      2018.0     Boating        USA     Paddling    F           N\n",
       "1      2018.0  Unprovoked        USA     Standing    F           N\n",
       "2      2018.0     Invalid        USA      Surfing    M           N\n",
       "3      2018.0  Unprovoked  AUSTRALIA      Surfing    M           N\n",
       "4      2018.0    Provoked     MEXICO  Free diving    M           N\n",
       "...       ...         ...        ...          ...  ...         ...\n",
       "25718     NaN         NaN        NaN          NaN  NaN         NaN\n",
       "25719     NaN         NaN        NaN          NaN  NaN         NaN\n",
       "25720     NaN         NaN        NaN          NaN  NaN         NaN\n",
       "25721     NaN         NaN        NaN          NaN  NaN         NaN\n",
       "25722     NaN         NaN        NaN          NaN  NaN         NaN\n",
       "\n",
       "[25723 rows x 6 columns]"
      ]
     },
     "execution_count": 10,
     "metadata": {},
     "output_type": "execute_result"
    }
   ],
   "source": [
    "df"
   ]
  },
  {
   "cell_type": "code",
   "execution_count": 11,
   "id": "4caebcfd",
   "metadata": {},
   "outputs": [
    {
     "data": {
      "text/plain": [
       "Year           19423\n",
       "Type           19425\n",
       "Country        19471\n",
       "Activity       19965\n",
       "Sex            19986\n",
       "Fatal (Y/N)    19960\n",
       "dtype: int64"
      ]
     },
     "execution_count": 11,
     "metadata": {},
     "output_type": "execute_result"
    }
   ],
   "source": [
    "#Treating missing and null values:\n",
    "\n",
    "df.isna().sum()"
   ]
  },
  {
   "cell_type": "code",
   "execution_count": 15,
   "id": "af7dbafb",
   "metadata": {},
   "outputs": [],
   "source": [
    "#There are over 19400 missing values present in each variable"
   ]
  },
  {
   "cell_type": "code",
   "execution_count": 12,
   "id": "1de65bc6",
   "metadata": {},
   "outputs": [
    {
     "data": {
      "text/plain": [
       "25723"
      ]
     },
     "execution_count": 12,
     "metadata": {},
     "output_type": "execute_result"
    }
   ],
   "source": [
    "len(df) "
   ]
  },
  {
   "cell_type": "code",
   "execution_count": 13,
   "id": "018bd44f",
   "metadata": {},
   "outputs": [],
   "source": [
    "df.dropna(subset=['Year','Type','Country','Activity','Sex ','Fatal (Y/N)'], inplace = True)"
   ]
  },
  {
   "cell_type": "code",
   "execution_count": 14,
   "id": "9d2916fe",
   "metadata": {},
   "outputs": [
    {
     "data": {
      "text/plain": [
       "Year           0\n",
       "Type           0\n",
       "Country        0\n",
       "Activity       0\n",
       "Sex            0\n",
       "Fatal (Y/N)    0\n",
       "dtype: int64"
      ]
     },
     "execution_count": 14,
     "metadata": {},
     "output_type": "execute_result"
    }
   ],
   "source": [
    "df.isna().sum()"
   ]
  },
  {
   "cell_type": "code",
   "execution_count": 15,
   "id": "d5d35b90",
   "metadata": {},
   "outputs": [
    {
     "data": {
      "text/html": [
       "<div>\n",
       "<style scoped>\n",
       "    .dataframe tbody tr th:only-of-type {\n",
       "        vertical-align: middle;\n",
       "    }\n",
       "\n",
       "    .dataframe tbody tr th {\n",
       "        vertical-align: top;\n",
       "    }\n",
       "\n",
       "    .dataframe thead th {\n",
       "        text-align: right;\n",
       "    }\n",
       "</style>\n",
       "<table border=\"1\" class=\"dataframe\">\n",
       "  <thead>\n",
       "    <tr style=\"text-align: right;\">\n",
       "      <th></th>\n",
       "      <th>Year</th>\n",
       "      <th>Type</th>\n",
       "      <th>Country</th>\n",
       "      <th>Activity</th>\n",
       "      <th>Sex</th>\n",
       "      <th>Fatal (Y/N)</th>\n",
       "    </tr>\n",
       "  </thead>\n",
       "  <tbody>\n",
       "    <tr>\n",
       "      <th>0</th>\n",
       "      <td>2018.0</td>\n",
       "      <td>Boating</td>\n",
       "      <td>USA</td>\n",
       "      <td>Paddling</td>\n",
       "      <td>F</td>\n",
       "      <td>N</td>\n",
       "    </tr>\n",
       "    <tr>\n",
       "      <th>1</th>\n",
       "      <td>2018.0</td>\n",
       "      <td>Unprovoked</td>\n",
       "      <td>USA</td>\n",
       "      <td>Standing</td>\n",
       "      <td>F</td>\n",
       "      <td>N</td>\n",
       "    </tr>\n",
       "    <tr>\n",
       "      <th>2</th>\n",
       "      <td>2018.0</td>\n",
       "      <td>Invalid</td>\n",
       "      <td>USA</td>\n",
       "      <td>Surfing</td>\n",
       "      <td>M</td>\n",
       "      <td>N</td>\n",
       "    </tr>\n",
       "    <tr>\n",
       "      <th>3</th>\n",
       "      <td>2018.0</td>\n",
       "      <td>Unprovoked</td>\n",
       "      <td>AUSTRALIA</td>\n",
       "      <td>Surfing</td>\n",
       "      <td>M</td>\n",
       "      <td>N</td>\n",
       "    </tr>\n",
       "    <tr>\n",
       "      <th>4</th>\n",
       "      <td>2018.0</td>\n",
       "      <td>Provoked</td>\n",
       "      <td>MEXICO</td>\n",
       "      <td>Free diving</td>\n",
       "      <td>M</td>\n",
       "      <td>N</td>\n",
       "    </tr>\n",
       "    <tr>\n",
       "      <th>...</th>\n",
       "      <td>...</td>\n",
       "      <td>...</td>\n",
       "      <td>...</td>\n",
       "      <td>...</td>\n",
       "      <td>...</td>\n",
       "      <td>...</td>\n",
       "    </tr>\n",
       "    <tr>\n",
       "      <th>6296</th>\n",
       "      <td>0.0</td>\n",
       "      <td>Unprovoked</td>\n",
       "      <td>AUSTRALIA</td>\n",
       "      <td>Swimming</td>\n",
       "      <td>M</td>\n",
       "      <td>Y</td>\n",
       "    </tr>\n",
       "    <tr>\n",
       "      <th>6297</th>\n",
       "      <td>0.0</td>\n",
       "      <td>Unprovoked</td>\n",
       "      <td>AUSTRALIA</td>\n",
       "      <td>Diving</td>\n",
       "      <td>M</td>\n",
       "      <td>Y</td>\n",
       "    </tr>\n",
       "    <tr>\n",
       "      <th>6298</th>\n",
       "      <td>0.0</td>\n",
       "      <td>Unprovoked</td>\n",
       "      <td>AUSTRALIA</td>\n",
       "      <td>Pearl diving</td>\n",
       "      <td>M</td>\n",
       "      <td>Y</td>\n",
       "    </tr>\n",
       "    <tr>\n",
       "      <th>6299</th>\n",
       "      <td>0.0</td>\n",
       "      <td>Unprovoked</td>\n",
       "      <td>USA</td>\n",
       "      <td>Swimming</td>\n",
       "      <td>M</td>\n",
       "      <td>Y</td>\n",
       "    </tr>\n",
       "    <tr>\n",
       "      <th>6301</th>\n",
       "      <td>0.0</td>\n",
       "      <td>Unprovoked</td>\n",
       "      <td>CEYLON (SRI LANKA)</td>\n",
       "      <td>Swimming</td>\n",
       "      <td>M</td>\n",
       "      <td>Y</td>\n",
       "    </tr>\n",
       "  </tbody>\n",
       "</table>\n",
       "<p>4932 rows × 6 columns</p>\n",
       "</div>"
      ],
      "text/plain": [
       "        Year        Type             Country      Activity Sex  Fatal (Y/N)\n",
       "0     2018.0     Boating                 USA      Paddling    F           N\n",
       "1     2018.0  Unprovoked                 USA      Standing    F           N\n",
       "2     2018.0     Invalid                 USA       Surfing    M           N\n",
       "3     2018.0  Unprovoked           AUSTRALIA       Surfing    M           N\n",
       "4     2018.0    Provoked              MEXICO   Free diving    M           N\n",
       "...      ...         ...                 ...           ...  ...         ...\n",
       "6296     0.0  Unprovoked           AUSTRALIA      Swimming    M           Y\n",
       "6297     0.0  Unprovoked           AUSTRALIA        Diving    M           Y\n",
       "6298     0.0  Unprovoked           AUSTRALIA  Pearl diving    M           Y\n",
       "6299     0.0  Unprovoked                 USA      Swimming    M           Y\n",
       "6301     0.0  Unprovoked  CEYLON (SRI LANKA)      Swimming    M           Y\n",
       "\n",
       "[4932 rows x 6 columns]"
      ]
     },
     "execution_count": 15,
     "metadata": {},
     "output_type": "execute_result"
    }
   ],
   "source": [
    "df"
   ]
  },
  {
   "cell_type": "code",
   "execution_count": 16,
   "id": "fe7c08ec",
   "metadata": {},
   "outputs": [
    {
     "name": "stdout",
     "output_type": "stream",
     "text": [
      "Year           float64\n",
      "Type            object\n",
      "Country         object\n",
      "Activity        object\n",
      "Sex             object\n",
      "Fatal (Y/N)     object\n",
      "dtype: object\n",
      "------------------------------------------------------------\n",
      "Year             2018.0\n",
      "Type            Boating\n",
      "Country             USA\n",
      "Activity       Paddling\n",
      "Sex                   F\n",
      "Fatal (Y/N)           N\n",
      "Name: 0, dtype: object\n"
     ]
    }
   ],
   "source": [
    "print(df.dtypes)\n",
    "print('-'*60)\n",
    "print(df.iloc[0])"
   ]
  },
  {
   "cell_type": "code",
   "execution_count": 18,
   "id": "aba62ce8",
   "metadata": {},
   "outputs": [],
   "source": [
    "#Converting 'Year' from float to Int\n",
    "df.dropna(subset=['Year'], inplace = True)\n",
    "df.Year = df.Year.astype(int)"
   ]
  },
  {
   "cell_type": "code",
   "execution_count": 19,
   "id": "60b3d32e",
   "metadata": {},
   "outputs": [
    {
     "data": {
      "text/html": [
       "<div>\n",
       "<style scoped>\n",
       "    .dataframe tbody tr th:only-of-type {\n",
       "        vertical-align: middle;\n",
       "    }\n",
       "\n",
       "    .dataframe tbody tr th {\n",
       "        vertical-align: top;\n",
       "    }\n",
       "\n",
       "    .dataframe thead th {\n",
       "        text-align: right;\n",
       "    }\n",
       "</style>\n",
       "<table border=\"1\" class=\"dataframe\">\n",
       "  <thead>\n",
       "    <tr style=\"text-align: right;\">\n",
       "      <th></th>\n",
       "      <th>Year</th>\n",
       "      <th>Type</th>\n",
       "      <th>Country</th>\n",
       "      <th>Activity</th>\n",
       "      <th>Sex</th>\n",
       "      <th>Fatal (Y/N)</th>\n",
       "    </tr>\n",
       "  </thead>\n",
       "  <tbody>\n",
       "    <tr>\n",
       "      <th>0</th>\n",
       "      <td>2018</td>\n",
       "      <td>Boating</td>\n",
       "      <td>USA</td>\n",
       "      <td>Paddling</td>\n",
       "      <td>F</td>\n",
       "      <td>N</td>\n",
       "    </tr>\n",
       "    <tr>\n",
       "      <th>1</th>\n",
       "      <td>2018</td>\n",
       "      <td>Unprovoked</td>\n",
       "      <td>USA</td>\n",
       "      <td>Standing</td>\n",
       "      <td>F</td>\n",
       "      <td>N</td>\n",
       "    </tr>\n",
       "    <tr>\n",
       "      <th>2</th>\n",
       "      <td>2018</td>\n",
       "      <td>Invalid</td>\n",
       "      <td>USA</td>\n",
       "      <td>Surfing</td>\n",
       "      <td>M</td>\n",
       "      <td>N</td>\n",
       "    </tr>\n",
       "    <tr>\n",
       "      <th>3</th>\n",
       "      <td>2018</td>\n",
       "      <td>Unprovoked</td>\n",
       "      <td>AUSTRALIA</td>\n",
       "      <td>Surfing</td>\n",
       "      <td>M</td>\n",
       "      <td>N</td>\n",
       "    </tr>\n",
       "    <tr>\n",
       "      <th>4</th>\n",
       "      <td>2018</td>\n",
       "      <td>Provoked</td>\n",
       "      <td>MEXICO</td>\n",
       "      <td>Free diving</td>\n",
       "      <td>M</td>\n",
       "      <td>N</td>\n",
       "    </tr>\n",
       "    <tr>\n",
       "      <th>...</th>\n",
       "      <td>...</td>\n",
       "      <td>...</td>\n",
       "      <td>...</td>\n",
       "      <td>...</td>\n",
       "      <td>...</td>\n",
       "      <td>...</td>\n",
       "    </tr>\n",
       "    <tr>\n",
       "      <th>6296</th>\n",
       "      <td>0</td>\n",
       "      <td>Unprovoked</td>\n",
       "      <td>AUSTRALIA</td>\n",
       "      <td>Swimming</td>\n",
       "      <td>M</td>\n",
       "      <td>Y</td>\n",
       "    </tr>\n",
       "    <tr>\n",
       "      <th>6297</th>\n",
       "      <td>0</td>\n",
       "      <td>Unprovoked</td>\n",
       "      <td>AUSTRALIA</td>\n",
       "      <td>Diving</td>\n",
       "      <td>M</td>\n",
       "      <td>Y</td>\n",
       "    </tr>\n",
       "    <tr>\n",
       "      <th>6298</th>\n",
       "      <td>0</td>\n",
       "      <td>Unprovoked</td>\n",
       "      <td>AUSTRALIA</td>\n",
       "      <td>Pearl diving</td>\n",
       "      <td>M</td>\n",
       "      <td>Y</td>\n",
       "    </tr>\n",
       "    <tr>\n",
       "      <th>6299</th>\n",
       "      <td>0</td>\n",
       "      <td>Unprovoked</td>\n",
       "      <td>USA</td>\n",
       "      <td>Swimming</td>\n",
       "      <td>M</td>\n",
       "      <td>Y</td>\n",
       "    </tr>\n",
       "    <tr>\n",
       "      <th>6301</th>\n",
       "      <td>0</td>\n",
       "      <td>Unprovoked</td>\n",
       "      <td>CEYLON (SRI LANKA)</td>\n",
       "      <td>Swimming</td>\n",
       "      <td>M</td>\n",
       "      <td>Y</td>\n",
       "    </tr>\n",
       "  </tbody>\n",
       "</table>\n",
       "<p>4932 rows × 6 columns</p>\n",
       "</div>"
      ],
      "text/plain": [
       "      Year        Type             Country      Activity Sex  Fatal (Y/N)\n",
       "0     2018     Boating                 USA      Paddling    F           N\n",
       "1     2018  Unprovoked                 USA      Standing    F           N\n",
       "2     2018     Invalid                 USA       Surfing    M           N\n",
       "3     2018  Unprovoked           AUSTRALIA       Surfing    M           N\n",
       "4     2018    Provoked              MEXICO   Free diving    M           N\n",
       "...    ...         ...                 ...           ...  ...         ...\n",
       "6296     0  Unprovoked           AUSTRALIA      Swimming    M           Y\n",
       "6297     0  Unprovoked           AUSTRALIA        Diving    M           Y\n",
       "6298     0  Unprovoked           AUSTRALIA  Pearl diving    M           Y\n",
       "6299     0  Unprovoked                 USA      Swimming    M           Y\n",
       "6301     0  Unprovoked  CEYLON (SRI LANKA)      Swimming    M           Y\n",
       "\n",
       "[4932 rows x 6 columns]"
      ]
     },
     "execution_count": 19,
     "metadata": {},
     "output_type": "execute_result"
    }
   ],
   "source": [
    "df"
   ]
  },
  {
   "cell_type": "markdown",
   "id": "068fa4c5",
   "metadata": {},
   "source": [
    "# Exploratory data analysis"
   ]
  },
  {
   "cell_type": "markdown",
   "id": "4eebafdb",
   "metadata": {},
   "source": [
    "# 1) What are the countries with most shark attacks?"
   ]
  },
  {
   "cell_type": "code",
   "execution_count": 80,
   "id": "313f87eb",
   "metadata": {},
   "outputs": [
    {
     "name": "stdout",
     "output_type": "stream",
     "text": [
      "USA                           1871\n",
      "AUSTRALIA                     1030\n",
      "SOUTH AFRICA                   454\n",
      "PAPUA NEW GUINEA               102\n",
      "BAHAMAS                         97\n",
      "                              ... \n",
      "ANDAMAN / NICOBAR ISLANDAS       1\n",
      "MALDIVE ISLANDS                  1\n",
      "NICARAGUA                        1\n",
      "NORTH SEA                        1\n",
      "CEYLON (SRI LANKA)               1\n",
      "Name: Country, Length: 190, dtype: int64\n"
     ]
    }
   ],
   "source": [
    "print(df['Country'].value_counts())"
   ]
  },
  {
   "cell_type": "code",
   "execution_count": 23,
   "id": "6e2c7d0f",
   "metadata": {},
   "outputs": [],
   "source": [
    "#Adding others column to group small values"
   ]
  },
  {
   "cell_type": "code",
   "execution_count": 21,
   "id": "18016da8",
   "metadata": {},
   "outputs": [],
   "source": [
    "def group(column, threshold):\n",
    "    table = df[column].value_counts()\n",
    "    grouped_columns = [i for i in table.index if table[i] < threshold]\n",
    "    for n in grouped_columns:\n",
    "        df.loc[df[column] == n, column] = 'Other'\n",
    "    print(df[column].value_counts())"
   ]
  },
  {
   "cell_type": "code",
   "execution_count": 23,
   "id": "7e086b96",
   "metadata": {},
   "outputs": [
    {
     "name": "stdout",
     "output_type": "stream",
     "text": [
      "USA                 1871\n",
      "Other               1078\n",
      "AUSTRALIA           1030\n",
      "SOUTH AFRICA         454\n",
      "PAPUA NEW GUINEA     102\n",
      "BAHAMAS               97\n",
      "NEW ZEALAND           97\n",
      "BRAZIL                84\n",
      "MEXICO                68\n",
      "REUNION               51\n",
      "Name: Country, dtype: int64\n"
     ]
    }
   ],
   "source": [
    "group('Country', 50)"
   ]
  },
  {
   "cell_type": "code",
   "execution_count": 25,
   "id": "480806ae",
   "metadata": {},
   "outputs": [],
   "source": [
    "#Fuction to plot Horizontal Bar chart"
   ]
  },
  {
   "cell_type": "code",
   "execution_count": 108,
   "id": "ce8397e5",
   "metadata": {},
   "outputs": [
    {
     "data": {
      "image/png": "[encoded data removed]",
      "text/plain": [
       "<Figure size 432x288 with 1 Axes>"
      ]
     },
     "metadata": {
      "needs_background": "light"
     },
     "output_type": "display_data"
    }
   ],
   "source": [
    "fig = plt.figure()\n",
    "ax = fig.add_axes([2,2,2,2])\n",
    "Country= ['USA','Other','AUSTRALIA','SOUTH AFRICA', 'PAPUA NEW GUINEA','BAHAMAS','NEW ZEALAND','BRAZIL','MEXICO','REUNION']\n",
    "count = [1871,1078,1030,454,102,97,97,84,68,51]\n",
    "ax.barh(Country,count)\n",
    "ax.set_xlabel('Country')\n",
    "ax.set_ylabel('Count')\n",
    "plt.show()"
   ]
  },
  {
   "cell_type": "markdown",
   "id": "248a073a",
   "metadata": {},
   "source": [
    "# 2) What are the most activities prior to attack?"
   ]
  },
  {
   "cell_type": "code",
   "execution_count": 84,
   "id": "37050e8b",
   "metadata": {},
   "outputs": [
    {
     "name": "stdout",
     "output_type": "stream",
     "text": [
      "Surfing                                                                                       911\n",
      "Swimming                                                                                      753\n",
      "Fishing                                                                                       321\n",
      "Spearfishing                                                                                  295\n",
      "Bathing                                                                                       143\n",
      "                                                                                             ... \n",
      "Surf-fishing                                                                                    1\n",
      "Feeding mullet to sharks                                                                        1\n",
      "Dynamite fishing                                                                                1\n",
      "Small boat with 2 men onboard hit a submerged coral formation. Men began swimming to shore      1\n",
      "4 men were bathing                                                                              1\n",
      "Name: Activity, Length: 1269, dtype: int64\n"
     ]
    }
   ],
   "source": [
    "print(df['Activity'].value_counts())"
   ]
  },
  {
   "cell_type": "code",
   "execution_count": null,
   "id": "8acd730b",
   "metadata": {},
   "outputs": [],
   "source": [
    "#Grouping some categories"
   ]
  },
  {
   "cell_type": "code",
   "execution_count": 85,
   "id": "e12785bf",
   "metadata": {},
   "outputs": [],
   "source": [
    "df.loc[df['Activity'].str.contains('surf', case=False, na=False), 'Activity'] = 'Surfing'\n",
    "df.loc[df['Activity'].str.contains('boarding', case=False, na=False), 'Activity'] = 'Surfing'\n",
    "df.loc[df['Activity'].str.contains('swim', case=False, na=False), 'Activity'] = 'Swimming'\n",
    "df.loc[df['Activity'].str.contains('fishing', case=False, na=False), 'Activity'] = 'Fishing'\n",
    "df.loc[df['Activity'].str.contains('aquarium', case=False, na=False), 'Activity'] = 'Fishing'\n",
    "df.loc[df['Activity'].str.contains('hunt', case=False, na=False), 'Activity'] = 'Fishing'\n",
    "df.loc[df['Activity'].str.contains('trap', case=False, na=False), 'Activity'] = 'Fishing'\n",
    "df.loc[df['Activity'].str.contains('walk', case=False, na=False), 'Activity'] = 'Swimming'\n",
    "df.loc[df['Activity'].str.contains('wading', case=False, na=False), 'Activity'] = 'Swimming'\n",
    "df.loc[df['Activity'].str.contains('float', case=False, na=False), 'Activity'] = 'Swimming'\n",
    "df.loc[df['Activity'].str.contains('Treading water', case=False, na=False), 'Activity'] = 'Swimming'\n",
    "df.loc[df['Activity'].str.contains('pull', case=False, na=False), 'Activity'] = 'Fishing'\n",
    "df.loc[df['Activity'].str.contains('pick', case=False, na=False), 'Activity'] = 'Fishing'\n",
    "df.loc[df['Activity'].str.contains('bath', case=False, na=False), 'Activity'] = 'Swimming'\n",
    "df.loc[df['Activity'].str.contains('diving', case=False, na=False), 'Activity'] = 'Diving'\n",
    "df.loc[df['Activity'].str.contains('snorkel', case=False, na=False), 'Activity'] = 'Diving'\n",
    "df.loc[df['Activity'].str.contains('photo', case=False, na=False), 'Activity'] = 'Photo shoot'\n",
    "df.loc[df['Activity'].str.contains('film', case=False, na=False), 'Activity'] = 'Filming'\n",
    "df.loc[df['Activity'].str.contains('float', case=False, na=False), 'Activity'] = 'Floating'\n",
    "df.loc[df['Activity'].str.contains('boarding', case=False, na=False), 'Activity'] = 'Boarding'\n",
    "df.loc[df['Activity'].str.contains('wash', case=False, na=False), 'Activity'] = 'Washing'"
   ]
  },
  {
   "cell_type": "code",
   "execution_count": 86,
   "id": "037f57b3",
   "metadata": {},
   "outputs": [
    {
     "name": "stdout",
     "output_type": "stream",
     "text": [
      "Swimming                                                                                        1387\n",
      "Surfing                                                                                         1328\n",
      "Fishing                                                                                          926\n",
      "Diving                                                                                           511\n",
      "Standing                                                                                          98\n",
      "                                                                                                ... \n",
      "Cleaning a tank                                                                                    1\n",
      "Collecting dynamited fish                                                                          1\n",
      "Survived US Naval aircraft crash, climbing onboard rescue vessel when he fell back into sea        1\n",
      "Paddling outrigger canoe                                                                           1\n",
      "Spent 8 days in dinghy                                                                             1\n",
      "Name: Activity, Length: 483, dtype: int64\n"
     ]
    }
   ],
   "source": [
    "print(df['Activity'].value_counts())"
   ]
  },
  {
   "cell_type": "code",
   "execution_count": 87,
   "id": "f0fbe7b9",
   "metadata": {},
   "outputs": [
    {
     "name": "stdout",
     "output_type": "stream",
     "text": [
      "Swimming          1387\n",
      "Surfing           1328\n",
      "Fishing            926\n",
      "Other              594\n",
      "Diving             511\n",
      "Standing            98\n",
      "Kayaking            30\n",
      "Fell overboard      28\n",
      "Washing             20\n",
      "Canoeing            10\n",
      "Name: Activity, dtype: int64\n"
     ]
    }
   ],
   "source": [
    "group('Activity', 10)"
   ]
  },
  {
   "cell_type": "code",
   "execution_count": 107,
   "id": "35af4f88",
   "metadata": {},
   "outputs": [
    {
     "data": {
      "image/png": "[encoded data removed]",
      "text/plain": [
       "<Figure size 432x288 with 1 Axes>"
      ]
     },
     "metadata": {
      "needs_background": "light"
     },
     "output_type": "display_data"
    }
   ],
   "source": [
    "fig = plt.figure()\n",
    "ax = fig.add_axes([2,2,2,2])\n",
    "activity= ['Swimming','Surfing','Fishing','Other', 'Diving','Standing','Kayaking','Fell overboard','Washing','Canoeing']\n",
    "count = [1387,1328,926,594,511,98,30,28,20,10]\n",
    "ax.bar(activity,count,color='teal')\n",
    "ax.set_xlabel('Activity')\n",
    "ax.set_ylabel('Count')\n",
    "plt.show()"
   ]
  },
  {
   "cell_type": "markdown",
   "id": "5431c836",
   "metadata": {},
   "source": [
    "# 3) What is the fatal and non-fatal rate?"
   ]
  },
  {
   "cell_type": "code",
   "execution_count": 94,
   "id": "4da5467b",
   "metadata": {},
   "outputs": [
    {
     "name": "stdout",
     "output_type": "stream",
     "text": [
      "N          3728\n",
      "Y          1172\n",
      "UNKNOWN      24\n",
      " N            5\n",
      "M             1\n",
      "2017          1\n",
      "y             1\n",
      "Name: Fatal (Y/N), dtype: int64\n"
     ]
    }
   ],
   "source": [
    "print(df['Fatal (Y/N)'].value_counts())"
   ]
  },
  {
   "cell_type": "code",
   "execution_count": 95,
   "id": "5ccac6d0",
   "metadata": {},
   "outputs": [],
   "source": [
    "df.drop(df[df['Fatal (Y/N)'] == 'UNKNOWN'].index, inplace=True)\n",
    "df.drop(df[df['Fatal (Y/N)'] == 'M'].index, inplace=True)\n",
    "df.drop(df[df['Fatal (Y/N)'] == '2017'].index, inplace=True)\n",
    "df.drop(df[df['Fatal (Y/N)'] == ' N'].index, inplace=True)\n",
    "df.drop(df[df['Fatal (Y/N)'] == 'y'].index, inplace=True)\n"
   ]
  },
  {
   "cell_type": "code",
   "execution_count": 96,
   "id": "1d19bbf6",
   "metadata": {},
   "outputs": [
    {
     "name": "stdout",
     "output_type": "stream",
     "text": [
      "N    3728\n",
      "Y    1172\n",
      "Name: Fatal (Y/N), dtype: int64\n"
     ]
    }
   ],
   "source": [
    "print(df['Fatal (Y/N)'].value_counts())"
   ]
  },
  {
   "cell_type": "code",
   "execution_count": 110,
   "id": "343b5421",
   "metadata": {},
   "outputs": [
    {
     "data": {
      "image/png": "[encoded data removed]",
      "text/plain": [
       "<Figure size 432x288 with 1 Axes>"
      ]
     },
     "metadata": {},
     "output_type": "display_data"
    }
   ],
   "source": [
    "fig = plt.figure()\n",
    "ax = fig.add_axes([0,0,1,1])\n",
    "ax.axis('equal')\n",
    "Fatal =['N','Y']\n",
    "students = [3728,1172]\n",
    "ax.pie(students, labels = Fatal,autopct='%1.2f%%')\n",
    "plt.show()"
   ]
  },
  {
   "cell_type": "markdown",
   "id": "8204dcf3",
   "metadata": {},
   "source": [
    "# 4) What is the tendency of shark attacks from the year 1960 to 2010?"
   ]
  },
  {
   "cell_type": "code",
   "execution_count": 111,
   "id": "8315ac6b",
   "metadata": {},
   "outputs": [],
   "source": [
    "df = df.loc[df['Year'] >= 1960,:]\n",
    "df = df.loc[df['Year'] <= 2010,:]"
   ]
  },
  {
   "cell_type": "code",
   "execution_count": 121,
   "id": "796cd09b",
   "metadata": {},
   "outputs": [],
   "source": [
    "table = df.groupby('Year').count()"
   ]
  },
  {
   "cell_type": "code",
   "execution_count": 127,
   "id": "be70931e",
   "metadata": {},
   "outputs": [
    {
     "data": {
      "image/png": "[encoded data removed]",
      "text/plain": [
       "<Figure size 1440x720 with 1 Axes>"
      ]
     },
     "metadata": {
      "needs_background": "light"
     },
     "output_type": "display_data"
    }
   ],
   "source": [
    "plt.figure(figsize = (20,10))\n",
    "sns.lineplot(data=table, x=\"Year\", y = table['Type'])\n",
    "plt.show()"
   ]
  }
 ],
 "metadata": {
  "kernelspec": {
   "display_name": "Python 3 (ipykernel)",
   "language": "python",
   "name": "python3"
  },
  "language_info": {
   "codemirror_mode": {
    "name": "ipython",
    "version": 3
   },
   "file_extension": ".py",
   "mimetype": "text/x-python",
   "name": "python",
   "nbconvert_exporter": "python",
   "pygments_lexer": "ipython3",
   "version": "3.9.7"
  }
 },
 "nbformat": 4,
 "nbformat_minor": 5
}
